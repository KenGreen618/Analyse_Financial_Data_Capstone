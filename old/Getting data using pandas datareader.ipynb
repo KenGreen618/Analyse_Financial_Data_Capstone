{
 "cells": [
  {
   "cell_type": "code",
   "execution_count": 3,
   "id": "ec50e176",
   "metadata": {},
   "outputs": [],
   "source": [
    "import numpy as np\n",
    "import datetime as dt\n",
    "from pandas_datareader import data as pdr\n"
   ]
  },
  {
   "cell_type": "code",
   "execution_count": 4,
   "id": "e43cb54d",
   "metadata": {},
   "outputs": [],
   "source": [
    "# Import Data\n",
    "# This code is from the ASX efficient frontier video 1\n",
    "\n",
    "def getData(stocks, start, end):\n",
    "    stockData = pdr.get_data_yahoo(stocks, start=start , end=end)\n",
    "    return stockData\n",
    "\n",
    "stockList = ['CBA', 'BHP', 'TLS']\n",
    "stock = [stock + '.AX' for stock in stockList]\n",
    "# .AX is for australian stocks\n",
    "\n",
    "endDate = dt.datetime.now()\n",
    "startDate = endDate - dt.timedelta(days = 365)"
   ]
  },
  {
   "cell_type": "code",
   "execution_count": null,
   "id": "48301985",
   "metadata": {},
   "outputs": [],
   "source": []
  },
  {
   "cell_type": "code",
   "execution_count": null,
   "id": "645c02dd",
   "metadata": {},
   "outputs": [],
   "source": []
  },
  {
   "cell_type": "code",
   "execution_count": null,
   "id": "40ca5654",
   "metadata": {},
   "outputs": [],
   "source": []
  },
  {
   "cell_type": "code",
   "execution_count": null,
   "id": "9c9f1e6d",
   "metadata": {},
   "outputs": [],
   "source": []
  },
  {
   "cell_type": "code",
   "execution_count": null,
   "id": "f8c5b5fb",
   "metadata": {},
   "outputs": [],
   "source": []
  }
 ],
 "metadata": {
  "kernelspec": {
   "display_name": "Python 3 (ipykernel)",
   "language": "python",
   "name": "python3"
  },
  "language_info": {
   "codemirror_mode": {
    "name": "ipython",
    "version": 3
   },
   "file_extension": ".py",
   "mimetype": "text/x-python",
   "name": "python",
   "nbconvert_exporter": "python",
   "pygments_lexer": "ipython3",
   "version": "3.9.7"
  }
 },
 "nbformat": 4,
 "nbformat_minor": 5
}
