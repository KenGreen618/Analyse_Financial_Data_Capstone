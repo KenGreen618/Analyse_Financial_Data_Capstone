{
 "cells": [
  {
   "cell_type": "code",
   "execution_count": 1,
   "id": "65fdac58",
   "metadata": {},
   "outputs": [],
   "source": [
    "# using another method and then comparing both to see if they match\n",
    "# https://towardsdatascience.com/efficient-frontier-optimize-portfolio-with-scipy-57456428323e\n"
   ]
  },
  {
   "cell_type": "code",
   "execution_count": 4,
   "id": "322d8271",
   "metadata": {},
   "outputs": [],
   "source": [
    "import yfinance as yf\n",
    "import numpy as np\n",
    "import matplotlib.pyplot as plt\n",
    "from scipy.optimize import minimize\n"
   ]
  },
  {
   "cell_type": "code",
   "execution_count": 5,
   "id": "f5c52557",
   "metadata": {},
   "outputs": [],
   "source": [
    "def get_risk(prices):\n",
    "    return (prices / prices.shift(1) - 1).dropna().std().values\n",
    "def get_return(prices):\n",
    "    return ((prices / prices.shift(1) - 1).dropna().mean() * np.sqrt(250)).values"
   ]
  },
  {
   "cell_type": "code",
   "execution_count": null,
   "id": "295b3c41",
   "metadata": {},
   "outputs": [],
   "source": [
    "df = yf.download(['XLY', 'XLI', 'XLE', 'XLK'], start=\"2000-01-01\", end=\"2022-03-07\")"
   ]
  },
  {
   "cell_type": "code",
   "execution_count": null,
   "id": "9e06bba0",
   "metadata": {},
   "outputs": [],
   "source": [
    "prices = df\n",
    "\n",
    "\n",
    "\n",
    "prices = prices.dropna()\n",
    "risk_v = get_risk(prices)\n",
    "return_v = get_return(prices)\n",
    "fig, ax = plt.subplots()\n",
    "ax.scatter(x=risk_v, y=return_v, alpha=0.5)\n",
    "ax.set(title='Return and Risk', xlabel='Risk', ylabel='Return')\n",
    "for i, symbol in enumerate(symbols):\n",
    "    ax.annotate(symbol, (risk_v[i], return_v[i]))"
   ]
  },
  {
   "cell_type": "code",
   "execution_count": null,
   "id": "8cb8ae0e",
   "metadata": {},
   "outputs": [],
   "source": []
  },
  {
   "cell_type": "code",
   "execution_count": null,
   "id": "3ac8e341",
   "metadata": {},
   "outputs": [],
   "source": []
  }
 ],
 "metadata": {
  "kernelspec": {
   "display_name": "Python 3 (ipykernel)",
   "language": "python",
   "name": "python3"
  },
  "language_info": {
   "codemirror_mode": {
    "name": "ipython",
    "version": 3
   },
   "file_extension": ".py",
   "mimetype": "text/x-python",
   "name": "python",
   "nbconvert_exporter": "python",
   "pygments_lexer": "ipython3",
   "version": "3.9.7"
  }
 },
 "nbformat": 4,
 "nbformat_minor": 5
}
