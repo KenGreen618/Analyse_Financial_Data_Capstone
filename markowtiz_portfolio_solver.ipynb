{
 "cells": [
  {
   "cell_type": "code",
   "execution_count": 1,
   "id": "512b9933-09cb-43e0-b7b1-081ea5227430",
   "metadata": {},
   "outputs": [],
   "source": [
    "import pandas_datareader.data as web\n",
    "import datetime\n",
    "import pandas as pd\n",
    "import numpy as np\n",
    "from scipy.optimize import minimize"
   ]
  },
  {
   "cell_type": "code",
   "execution_count": 2,
   "id": "ba73139f-7fdc-464d-8f29-00c9bdbc2b36",
   "metadata": {},
   "outputs": [],
   "source": [
    "start = datetime.datetime(2021,1,1)\n",
    "\n",
    "end = datetime.datetime(2021,1,21)"
   ]
  },
  {
   "cell_type": "code",
   "execution_count": 3,
   "id": "03516428-c0b1-4436-af8b-1d4812e03a66",
   "metadata": {},
   "outputs": [],
   "source": [
    "ceva = web.DataReader('CEVA', 'yahoo', start , end)\n",
    "google = web.DataReader('GOOGL', 'yahoo', start, end)\n",
    "tesla = web.DataReader('TSLA', 'yahoo', start, end)\n",
    "zom = web.DataReader('ZOM', 'yahoo', start, end)\n"
   ]
  },
  {
   "cell_type": "code",
   "execution_count": 4,
   "id": "2ca48351-0515-4b58-9202-4395587611c0",
   "metadata": {},
   "outputs": [
    {
     "data": {
      "text/html": [
       "<div>\n",
       "<style scoped>\n",
       "    .dataframe tbody tr th:only-of-type {\n",
       "        vertical-align: middle;\n",
       "    }\n",
       "\n",
       "    .dataframe tbody tr th {\n",
       "        vertical-align: top;\n",
       "    }\n",
       "\n",
       "    .dataframe thead th {\n",
       "        text-align: right;\n",
       "    }\n",
       "</style>\n",
       "<table border=\"1\" class=\"dataframe\">\n",
       "  <thead>\n",
       "    <tr style=\"text-align: right;\">\n",
       "      <th></th>\n",
       "      <th>CEVA</th>\n",
       "      <th>GOOGLE</th>\n",
       "      <th>TESLA</th>\n",
       "      <th>ZOMEDICA</th>\n",
       "    </tr>\n",
       "    <tr>\n",
       "      <th>Date</th>\n",
       "      <th></th>\n",
       "      <th></th>\n",
       "      <th></th>\n",
       "      <th></th>\n",
       "    </tr>\n",
       "  </thead>\n",
       "  <tbody>\n",
       "    <tr>\n",
       "      <th>2021-01-04</th>\n",
       "      <td>44.720001</td>\n",
       "      <td>1726.130005</td>\n",
       "      <td>729.770020</td>\n",
       "      <td>0.350</td>\n",
       "    </tr>\n",
       "    <tr>\n",
       "      <th>2021-01-05</th>\n",
       "      <td>46.430000</td>\n",
       "      <td>1740.050049</td>\n",
       "      <td>735.109985</td>\n",
       "      <td>0.439</td>\n",
       "    </tr>\n",
       "    <tr>\n",
       "      <th>2021-01-06</th>\n",
       "      <td>48.160000</td>\n",
       "      <td>1722.880005</td>\n",
       "      <td>755.979980</td>\n",
       "      <td>0.410</td>\n",
       "    </tr>\n",
       "    <tr>\n",
       "      <th>2021-01-07</th>\n",
       "      <td>50.700001</td>\n",
       "      <td>1774.339966</td>\n",
       "      <td>816.039978</td>\n",
       "      <td>0.400</td>\n",
       "    </tr>\n",
       "    <tr>\n",
       "      <th>2021-01-08</th>\n",
       "      <td>50.910000</td>\n",
       "      <td>1797.829956</td>\n",
       "      <td>880.020020</td>\n",
       "      <td>0.484</td>\n",
       "    </tr>\n",
       "    <tr>\n",
       "      <th>2021-01-11</th>\n",
       "      <td>54.139999</td>\n",
       "      <td>1756.290039</td>\n",
       "      <td>811.190002</td>\n",
       "      <td>0.930</td>\n",
       "    </tr>\n",
       "    <tr>\n",
       "      <th>2021-01-12</th>\n",
       "      <td>55.540001</td>\n",
       "      <td>1737.430054</td>\n",
       "      <td>849.440002</td>\n",
       "      <td>1.300</td>\n",
       "    </tr>\n",
       "    <tr>\n",
       "      <th>2021-01-13</th>\n",
       "      <td>57.119999</td>\n",
       "      <td>1747.250000</td>\n",
       "      <td>854.409973</td>\n",
       "      <td>0.976</td>\n",
       "    </tr>\n",
       "    <tr>\n",
       "      <th>2021-01-14</th>\n",
       "      <td>55.669998</td>\n",
       "      <td>1730.920044</td>\n",
       "      <td>845.000000</td>\n",
       "      <td>1.010</td>\n",
       "    </tr>\n",
       "    <tr>\n",
       "      <th>2021-01-15</th>\n",
       "      <td>53.930000</td>\n",
       "      <td>1727.619995</td>\n",
       "      <td>826.159973</td>\n",
       "      <td>0.975</td>\n",
       "    </tr>\n",
       "    <tr>\n",
       "      <th>2021-01-19</th>\n",
       "      <td>63.259998</td>\n",
       "      <td>1784.469971</td>\n",
       "      <td>844.549988</td>\n",
       "      <td>1.080</td>\n",
       "    </tr>\n",
       "    <tr>\n",
       "      <th>2021-01-20</th>\n",
       "      <td>65.910004</td>\n",
       "      <td>1880.069946</td>\n",
       "      <td>850.450012</td>\n",
       "      <td>1.020</td>\n",
       "    </tr>\n",
       "    <tr>\n",
       "      <th>2021-01-21</th>\n",
       "      <td>64.410004</td>\n",
       "      <td>1884.150024</td>\n",
       "      <td>844.989990</td>\n",
       "      <td>1.000</td>\n",
       "    </tr>\n",
       "  </tbody>\n",
       "</table>\n",
       "</div>"
      ],
      "text/plain": [
       "                 CEVA       GOOGLE       TESLA  ZOMEDICA\n",
       "Date                                                    \n",
       "2021-01-04  44.720001  1726.130005  729.770020     0.350\n",
       "2021-01-05  46.430000  1740.050049  735.109985     0.439\n",
       "2021-01-06  48.160000  1722.880005  755.979980     0.410\n",
       "2021-01-07  50.700001  1774.339966  816.039978     0.400\n",
       "2021-01-08  50.910000  1797.829956  880.020020     0.484\n",
       "2021-01-11  54.139999  1756.290039  811.190002     0.930\n",
       "2021-01-12  55.540001  1737.430054  849.440002     1.300\n",
       "2021-01-13  57.119999  1747.250000  854.409973     0.976\n",
       "2021-01-14  55.669998  1730.920044  845.000000     1.010\n",
       "2021-01-15  53.930000  1727.619995  826.159973     0.975\n",
       "2021-01-19  63.259998  1784.469971  844.549988     1.080\n",
       "2021-01-20  65.910004  1880.069946  850.450012     1.020\n",
       "2021-01-21  64.410004  1884.150024  844.989990     1.000"
      ]
     },
     "execution_count": 4,
     "metadata": {},
     "output_type": "execute_result"
    }
   ],
   "source": [
    "stonks = pd.concat([ceva['Close'], google['Close'], tesla['Close'], zom['Close']], axis=1)\n",
    "stonks.columns = ['CEVA', 'GOOGLE', 'TESLA', 'ZOMEDICA']\n",
    "\n",
    "stonks"
   ]
  },
  {
   "cell_type": "code",
   "execution_count": 5,
   "id": "5e35c857-5d19-46f0-84eb-d082dbaed446",
   "metadata": {},
   "outputs": [
    {
     "name": "stdout",
     "output_type": "stream",
     "text": [
      "                CEVA    GOOGLE     TESLA  ZOMEDICA\n",
      "Date                                              \n",
      "2021-01-04       NaN       NaN       NaN       NaN\n",
      "2021-01-05  1.038238  1.008064  1.007317  1.254286\n",
      "2021-01-06  1.037260  0.990132  1.028390  0.933941\n",
      "2021-01-07  1.052741  1.029869  1.079447  0.975610\n",
      "2021-01-08  1.004142  1.013239  1.078403  1.210000\n",
      "2021-01-11  1.063445  0.976894  0.921786  1.921488\n",
      "2021-01-12  1.025859  0.989261  1.047153  1.397849\n",
      "2021-01-13  1.028448  1.005652  1.005851  0.750769\n",
      "2021-01-14  0.974615  0.990654  0.988987  1.034836\n",
      "2021-01-15  0.968744  0.998093  0.977704  0.965347\n",
      "2021-01-19  1.173002  1.032907  1.022260  1.107692\n",
      "2021-01-20  1.041891  1.053573  1.006986  0.944444\n",
      "2021-01-21  0.977242  1.002170  0.993580  0.980392\n"
     ]
    }
   ],
   "source": [
    "returns = stonks/stonks.shift(1)\n",
    "print(returns)\n",
    "\n",
    "# the correct function for returns is below !!!!!!!!!!!!!!\n",
    "# returns = stonks.pct_change()\n",
    "# print(returns)\n"
   ]
  },
  {
   "cell_type": "code",
   "execution_count": 6,
   "id": "21895026-d333-41b9-a37c-8b42342d4168",
   "metadata": {},
   "outputs": [
    {
     "data": {
      "text/html": [
       "<div>\n",
       "<style scoped>\n",
       "    .dataframe tbody tr th:only-of-type {\n",
       "        vertical-align: middle;\n",
       "    }\n",
       "\n",
       "    .dataframe tbody tr th {\n",
       "        vertical-align: top;\n",
       "    }\n",
       "\n",
       "    .dataframe thead th {\n",
       "        text-align: right;\n",
       "    }\n",
       "</style>\n",
       "<table border=\"1\" class=\"dataframe\">\n",
       "  <thead>\n",
       "    <tr style=\"text-align: right;\">\n",
       "      <th></th>\n",
       "      <th>CEVA</th>\n",
       "      <th>GOOGLE</th>\n",
       "      <th>TESLA</th>\n",
       "      <th>ZOMEDICA</th>\n",
       "    </tr>\n",
       "    <tr>\n",
       "      <th>Date</th>\n",
       "      <th></th>\n",
       "      <th></th>\n",
       "      <th></th>\n",
       "      <th></th>\n",
       "    </tr>\n",
       "  </thead>\n",
       "  <tbody>\n",
       "    <tr>\n",
       "      <th>2021-01-04</th>\n",
       "      <td>NaN</td>\n",
       "      <td>NaN</td>\n",
       "      <td>NaN</td>\n",
       "      <td>NaN</td>\n",
       "    </tr>\n",
       "    <tr>\n",
       "      <th>2021-01-05</th>\n",
       "      <td>0.037525</td>\n",
       "      <td>0.008032</td>\n",
       "      <td>0.007291</td>\n",
       "      <td>0.226566</td>\n",
       "    </tr>\n",
       "    <tr>\n",
       "      <th>2021-01-06</th>\n",
       "      <td>0.036583</td>\n",
       "      <td>-0.009917</td>\n",
       "      <td>0.027995</td>\n",
       "      <td>-0.068342</td>\n",
       "    </tr>\n",
       "    <tr>\n",
       "      <th>2021-01-07</th>\n",
       "      <td>0.051397</td>\n",
       "      <td>0.029431</td>\n",
       "      <td>0.076448</td>\n",
       "      <td>-0.024693</td>\n",
       "    </tr>\n",
       "    <tr>\n",
       "      <th>2021-01-08</th>\n",
       "      <td>0.004133</td>\n",
       "      <td>0.013152</td>\n",
       "      <td>0.075481</td>\n",
       "      <td>0.190620</td>\n",
       "    </tr>\n",
       "    <tr>\n",
       "      <th>2021-01-11</th>\n",
       "      <td>0.061514</td>\n",
       "      <td>-0.023377</td>\n",
       "      <td>-0.081442</td>\n",
       "      <td>0.653100</td>\n",
       "    </tr>\n",
       "    <tr>\n",
       "      <th>2021-01-12</th>\n",
       "      <td>0.025530</td>\n",
       "      <td>-0.010797</td>\n",
       "      <td>0.046075</td>\n",
       "      <td>0.334935</td>\n",
       "    </tr>\n",
       "    <tr>\n",
       "      <th>2021-01-13</th>\n",
       "      <td>0.028051</td>\n",
       "      <td>0.005636</td>\n",
       "      <td>0.005834</td>\n",
       "      <td>-0.286657</td>\n",
       "    </tr>\n",
       "    <tr>\n",
       "      <th>2021-01-14</th>\n",
       "      <td>-0.025713</td>\n",
       "      <td>-0.009390</td>\n",
       "      <td>-0.011075</td>\n",
       "      <td>0.034243</td>\n",
       "    </tr>\n",
       "    <tr>\n",
       "      <th>2021-01-15</th>\n",
       "      <td>-0.031754</td>\n",
       "      <td>-0.001908</td>\n",
       "      <td>-0.022548</td>\n",
       "      <td>-0.035268</td>\n",
       "    </tr>\n",
       "    <tr>\n",
       "      <th>2021-01-19</th>\n",
       "      <td>0.159566</td>\n",
       "      <td>0.032377</td>\n",
       "      <td>0.022015</td>\n",
       "      <td>0.102279</td>\n",
       "    </tr>\n",
       "    <tr>\n",
       "      <th>2021-01-20</th>\n",
       "      <td>0.041037</td>\n",
       "      <td>0.052188</td>\n",
       "      <td>0.006962</td>\n",
       "      <td>-0.057158</td>\n",
       "    </tr>\n",
       "    <tr>\n",
       "      <th>2021-01-21</th>\n",
       "      <td>-0.023021</td>\n",
       "      <td>0.002168</td>\n",
       "      <td>-0.006441</td>\n",
       "      <td>-0.019803</td>\n",
       "    </tr>\n",
       "  </tbody>\n",
       "</table>\n",
       "</div>"
      ],
      "text/plain": [
       "                CEVA    GOOGLE     TESLA  ZOMEDICA\n",
       "Date                                              \n",
       "2021-01-04       NaN       NaN       NaN       NaN\n",
       "2021-01-05  0.037525  0.008032  0.007291  0.226566\n",
       "2021-01-06  0.036583 -0.009917  0.027995 -0.068342\n",
       "2021-01-07  0.051397  0.029431  0.076448 -0.024693\n",
       "2021-01-08  0.004133  0.013152  0.075481  0.190620\n",
       "2021-01-11  0.061514 -0.023377 -0.081442  0.653100\n",
       "2021-01-12  0.025530 -0.010797  0.046075  0.334935\n",
       "2021-01-13  0.028051  0.005636  0.005834 -0.286657\n",
       "2021-01-14 -0.025713 -0.009390 -0.011075  0.034243\n",
       "2021-01-15 -0.031754 -0.001908 -0.022548 -0.035268\n",
       "2021-01-19  0.159566  0.032377  0.022015  0.102279\n",
       "2021-01-20  0.041037  0.052188  0.006962 -0.057158\n",
       "2021-01-21 -0.023021  0.002168 -0.006441 -0.019803"
      ]
     },
     "execution_count": 6,
     "metadata": {},
     "output_type": "execute_result"
    }
   ],
   "source": [
    "logReturns = np.log(returns)\n",
    "logReturns"
   ]
  },
  {
   "cell_type": "code",
   "execution_count": 7,
   "id": "207e4721-67e2-4d81-931d-7f0004aa3d91",
   "metadata": {},
   "outputs": [],
   "source": [
    "pBar = logReturns.mean()\n",
    "Sigma = logReturns.cov()"
   ]
  },
  {
   "cell_type": "code",
   "execution_count": 8,
   "id": "75a12ed1-55e2-4dc4-b48d-79928c40f22a",
   "metadata": {},
   "outputs": [],
   "source": [
    "rMin = 0.02\n",
    "\n",
    "def riskFunction(w):\n",
    "    return np.dot(w.T,np.dot(Sigma, w))\n",
    "\n",
    "w0 = [0.25, 0.25, 0.25, 0.25]\n",
    "bounds = ((0,1),(0,1),(0,1),(0,1))\n",
    "\n",
    "def checkMinimumReturn(w):\n",
    "    RHS = rMin - np.sum(pBar * w)\n",
    "    return RHS\n",
    "def checkSumToOne(w):\n",
    "    return np.sum(w) - 1\n",
    "\n",
    "constraints = ({'type':'eq', 'fun':checkMinimumReturn},{'type':'eq', 'fun':checkSumToOne})\n",
    "\n",
    "w_opt = minimize(riskFunction, w0, method='SLSQP', bounds=bounds, constraints=constraints)"
   ]
  },
  {
   "cell_type": "code",
   "execution_count": 9,
   "id": "2bb3a90f-8577-4259-a1ec-8e421fd9dd5d",
   "metadata": {},
   "outputs": [
    {
     "data": {
      "text/plain": [
       "array([0.26696774, 0.34362012, 0.32806326, 0.06134888])"
      ]
     },
     "execution_count": 9,
     "metadata": {},
     "output_type": "execute_result"
    }
   ],
   "source": [
    "w_scipy = w_opt.x\n",
    "\n",
    "w_scipy"
   ]
  },
  {
   "cell_type": "code",
   "execution_count": 10,
   "id": "25ecbddf-80f6-40fa-93cb-780eebc823b5",
   "metadata": {},
   "outputs": [
    {
     "data": {
      "text/plain": [
       "0.0007318892616290768"
      ]
     },
     "execution_count": 10,
     "metadata": {},
     "output_type": "execute_result"
    }
   ],
   "source": [
    "risk_scipy = riskFunction(w_scipy)\n",
    "\n",
    "risk_scipy"
   ]
  },
  {
   "cell_type": "code",
   "execution_count": 11,
   "id": "19706b23-9555-45db-a159-85ed85d7c125",
   "metadata": {},
   "outputs": [
    {
     "data": {
      "text/plain": [
       "0.019999999955618675"
      ]
     },
     "execution_count": 11,
     "metadata": {},
     "output_type": "execute_result"
    }
   ],
   "source": [
    "np.sum(pBar * w_scipy)"
   ]
  },
  {
   "cell_type": "code",
   "execution_count": 12,
   "id": "40e782bf-5c5f-4305-be03-d14e0212a620",
   "metadata": {},
   "outputs": [
    {
     "data": {
      "text/plain": [
       "1.0"
      ]
     },
     "execution_count": 12,
     "metadata": {},
     "output_type": "execute_result"
    }
   ],
   "source": [
    "np.sum(w_scipy)"
   ]
  },
  {
   "cell_type": "code",
   "execution_count": 19,
   "id": "cb13d4f2-3039-4823-9d6e-90d8450b38c9",
   "metadata": {},
   "outputs": [],
   "source": [
    "def ourMarkowitzSingleEquationSolver(rMin, Sigma, pBar):\n",
    "    N = len(Sigma)\n",
    "    o = np.ones(N)\n",
    "    SigmaInv = np.linalg.inv(Sigma)\n",
    "    a = np.dot(pBar.T, np.dot(SigmaInv, pBar))\n",
    "    b = np.dot(pBar.T, np.dot(SigmaInv, o))\n",
    "    c = np.dot(o.T, np.dot(SigmaInv, o))\n",
    "    return (1/ (a*c - b**2)) * np.dot(SigmaInv, ((c * rMin - b)* pBar +(a - b * rMin)*o))"
   ]
  },
  {
   "cell_type": "code",
   "execution_count": 21,
   "id": "971ae49d-802c-45af-92c8-382fd70928c1",
   "metadata": {},
   "outputs": [
    {
     "name": "stdout",
     "output_type": "stream",
     "text": [
      "[0.24473372 0.44492543 0.23700196 0.07333889]\n",
      "0.0007099864708157671\n"
     ]
    }
   ],
   "source": [
    "w_ourSingleEquation = ourMarkowitzSingleEquationSolver(rMin, Sigma, pBar)\n",
    "print(w_ourSingleEquation)\n",
    "risk_ourSingleEquation = riskFunction(w_ourSingleEquation)\n",
    "print(risk_ourSingleEquation)"
   ]
  },
  {
   "cell_type": "code",
   "execution_count": 24,
   "id": "5f0805f9-e880-462c-9ce8-4c075151a642",
   "metadata": {},
   "outputs": [
    {
     "data": {
      "text/plain": [
       "0.019999999999999997"
      ]
     },
     "execution_count": 24,
     "metadata": {},
     "output_type": "execute_result"
    }
   ],
   "source": [
    "np.sum(pBar * w_ourSingleEquation)"
   ]
  },
  {
   "cell_type": "code",
   "execution_count": 25,
   "id": "2cb0eea3-2724-446b-918c-33183c010df4",
   "metadata": {},
   "outputs": [
    {
     "data": {
      "text/plain": [
       "0.9999999999999997"
      ]
     },
     "execution_count": 25,
     "metadata": {},
     "output_type": "execute_result"
    }
   ],
   "source": [
    "np.sum(w_ourSingleEquation)"
   ]
  }
 ],
 "metadata": {
  "kernelspec": {
   "display_name": "Python 3 (ipykernel)",
   "language": "python",
   "name": "python3"
  },
  "language_info": {
   "codemirror_mode": {
    "name": "ipython",
    "version": 3
   },
   "file_extension": ".py",
   "mimetype": "text/x-python",
   "name": "python",
   "nbconvert_exporter": "python",
   "pygments_lexer": "ipython3",
   "version": "3.9.7"
  }
 },
 "nbformat": 4,
 "nbformat_minor": 5
}
