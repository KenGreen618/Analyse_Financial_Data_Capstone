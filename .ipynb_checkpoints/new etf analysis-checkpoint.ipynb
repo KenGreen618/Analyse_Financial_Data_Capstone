{
 "cells": [
  {
   "cell_type": "code",
   "execution_count": 1,
   "id": "12f36648-74be-4f92-be02-cb53a0134f43",
   "metadata": {},
   "outputs": [],
   "source": [
    "import numpy as np\n",
    "import pandas as pd\n",
    "from pandas_datareader import data as web\n",
    "import scipy.optimize as sco\n",
    "import scipy.interpolate as sci\n",
    "import matplotlib.pyplot as plt\n"
   ]
  },
  {
   "cell_type": "code",
   "execution_count": 2,
   "id": "0f6595d1-b20a-4720-a3ff-92e1fb3aa4b7",
   "metadata": {},
   "outputs": [
    {
     "name": "stdout",
     "output_type": "stream",
     "text": [
      "                   XLY        XLI        XLE        XLK        XLF        XLV  \\\n",
      "Date                                                                            \n",
      "2020-03-20   86.311859  49.712017  23.163048  69.999718  18.112066  76.609558   \n",
      "2020-03-23   86.454102  47.534603  21.584290  69.360306  17.058243  72.630539   \n",
      "2020-03-24   94.563179  53.548302  25.045832  76.463821  19.173620  78.227257   \n",
      "2020-03-25   96.222527  56.365105  26.227154  76.365295  19.695219  79.268715   \n",
      "2020-03-26  100.202995  59.922646  27.829721  81.094406  20.931604  84.534485   \n",
      "\n",
      "                  XLU        XLB  \n",
      "Date                              \n",
      "2020-03-20  44.774578  39.093384  \n",
      "2020-03-23  42.489792  37.100494  \n",
      "2020-03-24  47.057468  41.463558  \n",
      "2020-03-25  48.258492  42.430977  \n",
      "2020-03-26  52.372246  44.423855  \n"
     ]
    }
   ],
   "source": [
    "# create a list of symbols\n",
    "symbols = [\n",
    "    \"XLY\", \"XLI\", \"XLE\", \"XLK\", \"XLF\", \"XLV\",\n",
    "    \"XLU\", \"XLB\"\n",
    "]\n",
    "\n",
    "# instantiate data frame container\n",
    "asset_data = pd.DataFrame()\n",
    "\n",
    "# for loop to get data from yahoo finance\n",
    "for sym in symbols:\n",
    "    # each run of the loop returns a pandas dataframe\n",
    "    asset_data[sym] = web.DataReader(\n",
    "        name = sym,\n",
    "        data_source = 'yahoo',\n",
    "        start = '2020-03-20',\n",
    "        end = '2022-03-07'\n",
    "        )['Adj Close'] # use [] to extract values as pandas series\n",
    "\n",
    "# set column indicies\n",
    "asset_data.columns = symbols\n",
    "\n",
    "# examine the first 5 rows\n",
    "print(asset_data.head(n = 5))"
   ]
  },
  {
   "cell_type": "code",
   "execution_count": 3,
   "id": "214b2716-95a6-4fec-b6b4-145dce94a60f",
   "metadata": {},
   "outputs": [
    {
     "data": {
      "text/html": [
       "<div>\n",
       "<style scoped>\n",
       "    .dataframe tbody tr th:only-of-type {\n",
       "        vertical-align: middle;\n",
       "    }\n",
       "\n",
       "    .dataframe tbody tr th {\n",
       "        vertical-align: top;\n",
       "    }\n",
       "\n",
       "    .dataframe thead th {\n",
       "        text-align: right;\n",
       "    }\n",
       "</style>\n",
       "<table border=\"1\" class=\"dataframe\">\n",
       "  <thead>\n",
       "    <tr style=\"text-align: right;\">\n",
       "      <th></th>\n",
       "      <th>XLY</th>\n",
       "      <th>XLI</th>\n",
       "      <th>XLE</th>\n",
       "      <th>XLK</th>\n",
       "      <th>XLF</th>\n",
       "      <th>XLV</th>\n",
       "      <th>XLU</th>\n",
       "      <th>XLB</th>\n",
       "    </tr>\n",
       "    <tr>\n",
       "      <th>Date</th>\n",
       "      <th></th>\n",
       "      <th></th>\n",
       "      <th></th>\n",
       "      <th></th>\n",
       "      <th></th>\n",
       "      <th></th>\n",
       "      <th></th>\n",
       "      <th></th>\n",
       "    </tr>\n",
       "  </thead>\n",
       "  <tbody>\n",
       "    <tr>\n",
       "      <th>2022-03-01</th>\n",
       "      <td>-0.015161</td>\n",
       "      <td>-0.014916</td>\n",
       "      <td>0.010059</td>\n",
       "      <td>-0.019991</td>\n",
       "      <td>-0.036864</td>\n",
       "      <td>-0.005540</td>\n",
       "      <td>-0.008685</td>\n",
       "      <td>-0.023027</td>\n",
       "    </tr>\n",
       "    <tr>\n",
       "      <th>2022-03-02</th>\n",
       "      <td>0.021003</td>\n",
       "      <td>0.021341</td>\n",
       "      <td>0.022864</td>\n",
       "      <td>0.021657</td>\n",
       "      <td>0.025876</td>\n",
       "      <td>0.015088</td>\n",
       "      <td>0.012177</td>\n",
       "      <td>0.021974</td>\n",
       "    </tr>\n",
       "    <tr>\n",
       "      <th>2022-03-03</th>\n",
       "      <td>-0.022645</td>\n",
       "      <td>0.001095</td>\n",
       "      <td>0.002743</td>\n",
       "      <td>-0.011928</td>\n",
       "      <td>-0.003153</td>\n",
       "      <td>0.005107</td>\n",
       "      <td>0.017606</td>\n",
       "      <td>0.001201</td>\n",
       "    </tr>\n",
       "    <tr>\n",
       "      <th>2022-03-04</th>\n",
       "      <td>-0.015886</td>\n",
       "      <td>-0.002187</td>\n",
       "      <td>0.028857</td>\n",
       "      <td>-0.017517</td>\n",
       "      <td>-0.018714</td>\n",
       "      <td>0.005005</td>\n",
       "      <td>0.022059</td>\n",
       "      <td>-0.003479</td>\n",
       "    </tr>\n",
       "    <tr>\n",
       "      <th>2022-03-07</th>\n",
       "      <td>-0.049009</td>\n",
       "      <td>-0.026796</td>\n",
       "      <td>0.014755</td>\n",
       "      <td>-0.036594</td>\n",
       "      <td>-0.036530</td>\n",
       "      <td>-0.017431</td>\n",
       "      <td>0.012978</td>\n",
       "      <td>-0.034674</td>\n",
       "    </tr>\n",
       "  </tbody>\n",
       "</table>\n",
       "</div>"
      ],
      "text/plain": [
       "                 XLY       XLI       XLE       XLK       XLF       XLV  \\\n",
       "Date                                                                     \n",
       "2022-03-01 -0.015161 -0.014916  0.010059 -0.019991 -0.036864 -0.005540   \n",
       "2022-03-02  0.021003  0.021341  0.022864  0.021657  0.025876  0.015088   \n",
       "2022-03-03 -0.022645  0.001095  0.002743 -0.011928 -0.003153  0.005107   \n",
       "2022-03-04 -0.015886 -0.002187  0.028857 -0.017517 -0.018714  0.005005   \n",
       "2022-03-07 -0.049009 -0.026796  0.014755 -0.036594 -0.036530 -0.017431   \n",
       "\n",
       "                 XLU       XLB  \n",
       "Date                            \n",
       "2022-03-01 -0.008685 -0.023027  \n",
       "2022-03-02  0.012177  0.021974  \n",
       "2022-03-03  0.017606  0.001201  \n",
       "2022-03-04  0.022059 -0.003479  \n",
       "2022-03-07  0.012978 -0.034674  "
      ]
     },
     "execution_count": 3,
     "metadata": {},
     "output_type": "execute_result"
    }
   ],
   "source": [
    "# compute daily simple returns\n",
    "daily_returns = (\n",
    "    asset_data.pct_change()\n",
    "        .dropna(\n",
    "            #drop the first row since we have NaN's\n",
    "            # the first date 2011-09-13 does not have a vlaue since it is our cut off date\n",
    "            axis = 0,\n",
    "            how = 'any',\n",
    "            inplace = False\n",
    "            )\n",
    ")\n",
    "\n",
    "# examine the last 5 rows \n",
    "daily_returns.tail(n=5)"
   ]
  },
  {
   "cell_type": "code",
   "execution_count": 4,
   "id": "60ef292d-61a7-4838-ad56-109119e27aff",
   "metadata": {},
   "outputs": [
    {
     "name": "stdout",
     "output_type": "stream",
     "text": [
      "XLY    0.353851\n",
      "XLI    0.376403\n",
      "XLE    0.694355\n",
      "XLK    0.404456\n",
      "XLF    0.390035\n",
      "XLV    0.288735\n",
      "XLU    0.268334\n",
      "XLB    0.399036\n",
      "dtype: float64\n"
     ]
    }
   ],
   "source": [
    "print(daily_returns.mean() * 253)"
   ]
  },
  {
   "cell_type": "code",
   "execution_count": 5,
   "id": "84f54a23-de8d-47a6-a14c-7d6189642265",
   "metadata": {},
   "outputs": [
    {
     "name": "stdout",
     "output_type": "stream",
     "text": [
      "          XLY       XLI       XLE       XLK       XLF       XLV       XLU  \\\n",
      "XLY  0.055230  0.042555  0.045016  0.051481  0.044149  0.027381  0.028033   \n",
      "XLI  0.042555  0.061170  0.074370  0.039774  0.062665  0.030854  0.037426   \n",
      "XLE  0.045016  0.074370  0.168752  0.039286  0.089284  0.033513  0.039556   \n",
      "XLK  0.051481  0.039774  0.039286  0.068131  0.039663  0.034377  0.029414   \n",
      "XLF  0.044149  0.062665  0.089284  0.039663  0.080551  0.031817  0.039108   \n",
      "XLV  0.027381  0.030854  0.033513  0.034377  0.031817  0.034167  0.028395   \n",
      "XLU  0.028033  0.037426  0.039556  0.029414  0.039108  0.028395  0.053311   \n",
      "XLB  0.041814  0.055332  0.070456  0.040813  0.059797  0.031506  0.036338   \n",
      "\n",
      "          XLB  \n",
      "XLY  0.041814  \n",
      "XLI  0.055332  \n",
      "XLE  0.070456  \n",
      "XLK  0.040813  \n",
      "XLF  0.059797  \n",
      "XLV  0.031506  \n",
      "XLU  0.036338  \n",
      "XLB  0.062383  \n"
     ]
    }
   ],
   "source": [
    "print(daily_returns.cov() * 253)"
   ]
  },
  {
   "cell_type": "code",
   "execution_count": 6,
   "id": "6509d4e7-547c-450d-93b6-308366737a82",
   "metadata": {},
   "outputs": [],
   "source": [
    "# Function for computing portfolio return\n",
    "def portfolio_returns(weights):\n",
    "    return (np.sum(daily_returns.mean() * weights)) * 253\n",
    "\n",
    "# function for computing standard deviation of portfolio returns\n",
    "def portfolio_sd(weights):\n",
    "    return np.sqrt(np.transpose(weights) @ (daily_returns.cov() * 253) @ weights)\n"
   ]
  },
  {
   "cell_type": "code",
   "execution_count": 7,
   "id": "897657b3-7df0-491d-967a-286996d1c8d8",
   "metadata": {},
   "outputs": [
    {
     "name": "stdout",
     "output_type": "stream",
     "text": [
      "0.5131\n",
      "0.3192\n"
     ]
    }
   ],
   "source": [
    "# instantiate empy list containers for returns and sd\n",
    "\n",
    "list_portfolio_returns = []\n",
    "list_portfolio_sd = []\n",
    "\n",
    "# loop to simulate 5000 random weight vectors (numpy array objects)\n",
    "for p in range(5000):\n",
    "    # return random floats in the half open interval [0.0, 1.0]\n",
    "    weights = np.random.random(size = len(symbols))\n",
    "    # normalize to unity\n",
    "    # the /= operator divides the array by the sum of the array and rebinds \"weights\" to the new object\n",
    "    weights /= np.sum(weights)\n",
    "    # lists are mutable so growing will not be memory inefficient\n",
    "    list_portfolio_returns.append(portfolio_returns(weights))\n",
    "    list_portfolio_sd.append(portfolio_sd(weights))\n",
    "    # convert list to numpy arrays\n",
    "    port_returns = np.array(object = list_portfolio_returns)\n",
    "    port_sd = np.array(object = list_portfolio_sd)\n",
    "\n",
    "# max expected return\n",
    "max_expected_return = round(max(port_returns), 4)\n",
    "print(max_expected_return)\n",
    "\n",
    "# min expected return\n",
    "min_expected_return = round(min(port_returns), 4)\n",
    "print(min_expected_return)"
   ]
  },
  {
   "cell_type": "code",
   "execution_count": 8,
   "id": "69e5d4f5-d085-4d7b-bfe6-b641f60a9c1d",
   "metadata": {},
   "outputs": [
    {
     "name": "stdout",
     "output_type": "stream",
     "text": [
      "0.2771\n",
      "0.1901\n"
     ]
    }
   ],
   "source": [
    "# max sd \n",
    "max_expected_sd = round(max(port_sd), 4)\n",
    "print(max_expected_sd)\n",
    "\n",
    "# min sd\n",
    "min_expected_sd = round(min(port_sd), 4)\n",
    "print(min_expected_sd)"
   ]
  },
  {
   "cell_type": "code",
   "execution_count": 9,
   "id": "7049f33a-7ffc-49e6-b326-e25df77d167d",
   "metadata": {},
   "outputs": [
    {
     "data": {
      "image/png": "[encoded data removed]",
      "text/plain": [
       "<Figure size 1296x720 with 1 Axes>"
      ]
     },
     "metadata": {
      "needs_background": "light"
     },
     "output_type": "display_data"
    }
   ],
   "source": [
    "# Plot the sub-optimal portfolios\n",
    "plt.figure(figsize=(18,10))\n",
    "plt.scatter(port_sd, port_returns) # c = sharpRatio makes a color map of where the high sharpe ratio is\n",
    "plt.xlabel('Expected Volatility')\n",
    "plt.ylabel('Expected Returns')\n",
    "plt.show()"
   ]
  },
  {
   "cell_type": "code",
   "execution_count": 10,
   "id": "7c5a4de5-1cfe-43b6-af3c-51c8b802703f",
   "metadata": {},
   "outputs": [],
   "source": [
    "# user defined sharpe ratio function\n",
    "# negative sign t ocompute the negative value of sharpe ratio\n",
    "\n",
    "def sharpe_fun(weights):\n",
    "    return - (portfolio_returns(weights) / portfolio_sd(weights))"
   ]
  },
  {
   "cell_type": "code",
   "execution_count": 11,
   "id": "169404e0-bdd5-4f7d-87ea-6e88617ae38f",
   "metadata": {},
   "outputs": [],
   "source": [
    "# we will use dictionaires inside of a tuple to represent the constraints:\n",
    "# we use an anonymous lambda function\n",
    "\n",
    "constraints = ({'type': 'eq', 'fun': lambda x : np.sum(x) - 1})"
   ]
  },
  {
   "cell_type": "code",
   "execution_count": 12,
   "id": "5bbed8f9-be42-4314-acbd-e2ae0f3d201f",
   "metadata": {},
   "outputs": [],
   "source": [
    "# next, the bound values for the weights:\n",
    "# this creates 12 tuples of (0,1), all of twhich exist within a container typle\n",
    "# we essentially create a sequence of (min, max) pairs\n",
    "\n",
    "bounds = tuple(\n",
    "    (0, 1) for w in weights\n",
    ")"
   ]
  },
  {
   "cell_type": "code",
   "execution_count": 13,
   "id": "488cf850-4520-4f96-86be-a41919e085d5",
   "metadata": {},
   "outputs": [],
   "source": [
    "# we also need to supply a starting list of weights, which essentially functions as an initial guess.\n",
    "# for our purposes this will be an equal weight array:\n",
    "# repeat the list with the value (1/12) 12 times, and convert list to array\n",
    "\n",
    "equal_weights = np.array(\n",
    "    [1 / len(symbols)] * len(symbols)\n",
    ")"
   ]
  },
  {
   "cell_type": "code",
   "execution_count": 14,
   "id": "86971b5f-3e28-486f-a6f3-6ee7efd12cc6",
   "metadata": {},
   "outputs": [],
   "source": [
    "# minimization results\n",
    "max_sharpe_results = sco.minimize(\n",
    "    # objective function\n",
    "    fun = sharpe_fun,\n",
    "    # initial guess, which is the equal weight array\n",
    "    x0 = equal_weights,\n",
    "    method = 'SLSQP',\n",
    "    bounds = bounds,\n",
    "    constraints = constraints\n",
    ")"
   ]
  },
  {
   "cell_type": "code",
   "execution_count": 15,
   "id": "22c794a1-8acb-40af-85e0-bb6a9bccb7d0",
   "metadata": {},
   "outputs": [
    {
     "name": "stdout",
     "output_type": "stream",
     "text": [
      "[0.00000000e+00 1.96742184e-17 3.42376594e-01 3.43344061e-01\n",
      " 1.10042207e-16 3.14279345e-01 0.00000000e+00 0.00000000e+00]\n"
     ]
    }
   ],
   "source": [
    "# extract the weight composition array\n",
    "print(max_sharpe_results[\"x\"])"
   ]
  },
  {
   "cell_type": "code",
   "execution_count": 16,
   "id": "7e985a1e-2f5f-4124-8aa7-5e1bde5c33a3",
   "metadata": {},
   "outputs": [
    {
     "data": {
      "text/plain": [
       "0.4673"
      ]
     },
     "execution_count": 16,
     "metadata": {},
     "output_type": "execute_result"
    }
   ],
   "source": [
    "# expected return\n",
    "max_sharpe_port_return = portfolio_returns(max_sharpe_results[\"x\"])\n",
    "round(max_sharpe_port_return, 4)"
   ]
  },
  {
   "cell_type": "code",
   "execution_count": 17,
   "id": "d36f0026-0adf-4e75-9d5b-7dbece508357",
   "metadata": {},
   "outputs": [
    {
     "data": {
      "text/plain": [
       "0.2346"
      ]
     },
     "execution_count": 17,
     "metadata": {},
     "output_type": "execute_result"
    }
   ],
   "source": [
    "# standard deviation\n",
    "max_sharpe_port_sd = portfolio_sd(max_sharpe_results[\"x\"])\n",
    "round(max_sharpe_port_sd, 4)"
   ]
  },
  {
   "cell_type": "code",
   "execution_count": 18,
   "id": "72bce7f2-e439-4edc-a116-a62a907b5495",
   "metadata": {},
   "outputs": [
    {
     "data": {
      "text/plain": [
       "1.9918"
      ]
     },
     "execution_count": 18,
     "metadata": {},
     "output_type": "execute_result"
    }
   ],
   "source": [
    "# sharpe ratio\n",
    "max_sharpe_port_sharpe = max_sharpe_port_return / max_sharpe_port_sd\n",
    "round(max_sharpe_port_sharpe, 4)"
   ]
  },
  {
   "cell_type": "code",
   "execution_count": 19,
   "id": "28295999-f5e0-41f8-a5d0-1f93efb23b5f",
   "metadata": {},
   "outputs": [],
   "source": [
    "#                                                minimum variance portfolio "
   ]
  },
  {
   "cell_type": "code",
   "execution_count": 20,
   "id": "9863f430-3799-4b94-8d82-b5433ac9b9cc",
   "metadata": {},
   "outputs": [],
   "source": [
    "# minimize sd\n",
    "min_sd_results = sco.minimize(\n",
    "    # objective function\n",
    "    fun = portfolio_sd,\n",
    "    # iniital guess, which is the equal weight array\n",
    "    x0 = equal_weights,\n",
    "    method = 'SLSQP',\n",
    "    bounds = bounds,\n",
    "    constraints = constraints\n",
    ")"
   ]
  },
  {
   "cell_type": "code",
   "execution_count": 21,
   "id": "05f65d42-dc86-4cd2-b8b7-9a5c17372a84",
   "metadata": {},
   "outputs": [
    {
     "data": {
      "text/plain": [
       "0.2969"
      ]
     },
     "execution_count": 21,
     "metadata": {},
     "output_type": "execute_result"
    }
   ],
   "source": [
    "# expected return\n",
    "min_sd_port_return = portfolio_returns(min_sd_results[\"x\"])\n",
    "round(min_sd_port_return, 4)"
   ]
  },
  {
   "cell_type": "code",
   "execution_count": 22,
   "id": "802c29ab-970b-4a57-866e-694ba5ea907b",
   "metadata": {},
   "outputs": [
    {
     "data": {
      "text/plain": [
       "0.1793"
      ]
     },
     "execution_count": 22,
     "metadata": {},
     "output_type": "execute_result"
    }
   ],
   "source": [
    "# standard deviation \n",
    "min_sd_port_sd = portfolio_sd(min_sd_results[\"x\"])\n",
    "round(min_sd_port_sd, 4)"
   ]
  },
  {
   "cell_type": "code",
   "execution_count": 23,
   "id": "22acf337-1d0e-45eb-8045-87008b0c9249",
   "metadata": {},
   "outputs": [
    {
     "data": {
      "text/plain": [
       "1.6558"
      ]
     },
     "execution_count": 23,
     "metadata": {},
     "output_type": "execute_result"
    }
   ],
   "source": [
    "# sharpe ratio \n",
    "min_sd_port_sharpe = min_sd_port_return / min_sd_port_sd\n",
    "round(min_sd_port_sharpe, 4)"
   ]
  },
  {
   "cell_type": "code",
   "execution_count": 24,
   "id": "29b7a144-3b2f-4c70-8384-6d45ff8a8b76",
   "metadata": {},
   "outputs": [],
   "source": [
    "#                                         efficient frontier"
   ]
  },
  {
   "cell_type": "code",
   "execution_count": 25,
   "id": "f0e85362-b97d-448f-a306-717e3072af4a",
   "metadata": {},
   "outputs": [],
   "source": [
    "# For the optimization, we essentially “fit” the twin-objective described earlier into an optimization problem \n",
    "# that can be solved using quadratic programming. (The objective function is the portfolio standard deviation \n",
    "# formula, which is a quadratic function) Therefore, the two linear constraints are the target return (a linear \n",
    "# function) and that the weights must sum to 1 (another linear function). We will again use dictionaries inside \n",
    "# of a tuple to represent the constraints:\n",
    "\n",
    "# we use anonymous lambda functions\n",
    "# the argument x will be the weights\n",
    "constraints = (\n",
    "    {'type': 'eq', 'fun': lambda x: portfolio_returns(x) - target},\n",
    "    {'type': 'eq', 'fun': lambda x: np.sum(x) - 1}\n",
    ")"
   ]
  },
  {
   "cell_type": "code",
   "execution_count": 26,
   "id": "b5acaf97-93c2-46bc-bf60-b17c36752d95",
   "metadata": {},
   "outputs": [],
   "source": [
    "# this creates 12 tuples of (0, 1), all of which exist within a container tuple\n",
    "# we essentially create a sequence of (min, max) pairs\n",
    "\n",
    "bounds = tuple(\n",
    "    (0, 1) for w in weights\n",
    ")"
   ]
  },
  {
   "cell_type": "code",
   "execution_count": 33,
   "id": "5a545888-2e09-45c9-8f50-d6075ec2e8ae",
   "metadata": {},
   "outputs": [],
   "source": [
    "# in itialise an array of target returns\n",
    "\n",
    "target = np.linspace(\n",
    "    start = 0.25,\n",
    "    stop = 0.75,\n",
    "    num = 100\n",
    ")\n",
    "\n",
    "# instantiate empty container for the objective values to be minimized\n",
    "obj_sd = []\n",
    "# for loop to minimize objective function\n",
    "for target in target:\n",
    "    min_result_object = sco.minimize(\n",
    "        # objective function\n",
    "        fun = portfolio_sd,\n",
    "        # initial guess, which is the equal weight array\n",
    "        x0 = equal_weights,\n",
    "        method = 'SLSQP',\n",
    "        bounds = bounds,\n",
    "        constraints = constraints\n",
    "        )\n",
    "    # extract the objective value and append it to the output container\n",
    "    obj_sd.append(min_result_object['fun'])\n",
    "# end of loop\n",
    "# convert list to array\n",
    "obj_sd = np.array(obj_sd)\n",
    "\n",
    "# rebind target to a new array object\n",
    "target = np.linspace(\n",
    "    start = 0.25,\n",
    "    stop = 0.75,\n",
    "    num = 100\n",
    ")"
   ]
  },
  {
   "cell_type": "code",
   "execution_count": 28,
   "id": "b98dff7c-b338-4d0d-ad0c-5b4e2f5f296a",
   "metadata": {},
   "outputs": [],
   "source": [
    "# plt.figure(figsize=(18,10))\n",
    "# plt.scatter(expectedVolatality, expectedReturn, c=sharpRatio) # c = sharpRatio makes a color map of where the high sharpe ratio is\n",
    "# plt.xlabel('Expected Volatility')\n",
    "# plt.ylabel('Expected Returns')\n",
    "# plt.colorbar(label = 'Sharpe Ratio') # legend for the color map\n",
    "# plt.scatter(expectedVolatality[maxIndex], expectedReturn[maxIndex], c ='red') # plotting the max sharpe ratio point\n",
    "# plt.scatter(x_values, y_values, marker = 'X', color = 'orange')\n",
    "# plt.plot(annualised_volatility_opt, returns)\n",
    "# plt.show()"
   ]
  },
  {
   "cell_type": "code",
   "execution_count": 34,
   "id": "ae83c019-4220-44f8-9799-f33e6efe7f9b",
   "metadata": {},
   "outputs": [
    {
     "data": {
      "image/png": "[encoded data removed]",
      "text/plain": [
       "<Figure size 1296x720 with 1 Axes>"
      ]
     },
     "metadata": {
      "needs_background": "light"
     },
     "output_type": "display_data"
    }
   ],
   "source": [
    "# Plot the sub-optimal portfolios\n",
    "plt.figure(figsize=(18,10))\n",
    "plt.scatter(port_sd, port_returns) # c = sharpRatio makes a color map of where the high sharpe ratio is\n",
    "plt.xlabel('Expected Volatility')\n",
    "plt.ylabel('Expected Returns')\n",
    "plt.plot(obj_sd, target)\n",
    "plt.show()"
   ]
  },
  {
   "cell_type": "code",
   "execution_count": null,
   "id": "28324990-edd1-4692-bb7b-3232281ffd2d",
   "metadata": {},
   "outputs": [],
   "source": []
  },
  {
   "cell_type": "code",
   "execution_count": null,
   "id": "02f17008-61eb-4a44-a703-a74d47e98ad5",
   "metadata": {},
   "outputs": [],
   "source": []
  }
 ],
 "metadata": {
  "kernelspec": {
   "display_name": "Python 3 (ipykernel)",
   "language": "python",
   "name": "python3"
  },
  "language_info": {
   "codemirror_mode": {
    "name": "ipython",
    "version": 3
   },
   "file_extension": ".py",
   "mimetype": "text/x-python",
   "name": "python",
   "nbconvert_exporter": "python",
   "pygments_lexer": "ipython3",
   "version": "3.9.7"
  }
 },
 "nbformat": 4,
 "nbformat_minor": 5
}
